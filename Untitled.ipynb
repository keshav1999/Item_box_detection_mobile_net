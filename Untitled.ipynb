{
 "cells": [
  {
   "cell_type": "code",
   "execution_count": 2,
   "metadata": {},
   "outputs": [],
   "source": [
    "import numpy as np\n",
    "import os\n",
    "import six.moves.urllib as urllib\n",
    "import sys\n",
    "import tarfile\n",
    "import tensorflow as tf\n",
    "import zipfile\n",
    "from collections import defaultdict\n",
    "from io import StringIO\n",
    "from matplotlib import pyplot as plt\n",
    "from PIL import Image\n",
    "sys.path.append(\"..\")\n",
    "from object_detection.utils import ops as utils_ops\n",
    "#from object_detection.utils import label_map_util\n",
    "from object_detection.utils import visualization_utils as vis_util\n",
    "from matplotlib import pyplot as plt\n",
    "utils_ops.tf = tf.compat.v1\n",
    "\n",
    "# Patch the location of gfile\n",
    "tf.gfile = tf.io.gfile"
   ]
  },
  {
   "cell_type": "code",
   "execution_count": 3,
   "metadata": {},
   "outputs": [],
   "source": [
    "from object_detection.utils import label_map_util"
   ]
  },
  {
   "cell_type": "code",
   "execution_count": 2,
   "metadata": {},
   "outputs": [
    {
     "name": "stdout",
     "output_type": "stream",
     "text": [
      "CONTRIBUTING.md                     inputs_test.py\r\n",
      "README.md                           \u001b[34mlegacy\u001b[m\u001b[m\r\n",
      "Untitled.ipynb                      \u001b[34mltraining\u001b[m\u001b[m\r\n",
      "__init__.py                         \u001b[34mmatchers\u001b[m\u001b[m\r\n",
      "\u001b[34m__pycache__\u001b[m\u001b[m                         \u001b[34mmeta_architectures\u001b[m\u001b[m\r\n",
      "\u001b[34manchor_generators\u001b[m\u001b[m                   \u001b[34mmetrics\u001b[m\u001b[m\r\n",
      "\u001b[34mbox_coders\u001b[m\u001b[m                          model_hparams.py\r\n",
      "\u001b[34mbuilders\u001b[m\u001b[m                            model_lib.py\r\n",
      "\u001b[34mcore\u001b[m\u001b[m                                model_lib_test.py\r\n",
      "\u001b[34mdata\u001b[m\u001b[m                                model_lib_v2.py\r\n",
      "\u001b[34mdata_decoders\u001b[m\u001b[m                       model_lib_v2_test.py\r\n",
      "\u001b[34mdataset_tools\u001b[m\u001b[m                       model_main.py\r\n",
      "\u001b[34mdockerfiles\u001b[m\u001b[m                         model_tpu_main.py\r\n",
      "eval_util.py                        \u001b[34mmodels\u001b[m\u001b[m\r\n",
      "eval_util_test.py                   object_detection_tutorial.ipynb\r\n",
      "export_inference_graph.py           \u001b[34mpredictors\u001b[m\u001b[m\r\n",
      "export_tflite_ssd_graph.py          \u001b[34mprotos\u001b[m\u001b[m\r\n",
      "export_tflite_ssd_graph_lib.py      \u001b[34msamples\u001b[m\u001b[m\r\n",
      "export_tflite_ssd_graph_lib_test.py \u001b[34mssd_mobilenet_v1_coco_11_06_2017\u001b[m\u001b[m\r\n",
      "exporter.py                         ssd_mobilenet_v1_pets.config\r\n",
      "exporter_test.py                    \u001b[34mtest_ckpt\u001b[m\u001b[m\r\n",
      "\u001b[34mg3doc\u001b[m\u001b[m                               \u001b[34mtest_data\u001b[m\u001b[m\r\n",
      "\u001b[34mgraph\u001b[m\u001b[m                               \u001b[34mtest_images\u001b[m\u001b[m\r\n",
      "\u001b[30m\u001b[43mimages\u001b[m\u001b[m                              \u001b[34mtpu_exporters\u001b[m\u001b[m\r\n",
      "\u001b[34minference\u001b[m\u001b[m                           \u001b[34mtraining\u001b[m\u001b[m\r\n",
      "inputs.py                           \u001b[34mutils\u001b[m\u001b[m\r\n"
     ]
    }
   ],
   "source": [
    "!ls"
   ]
  },
  {
   "cell_type": "code",
   "execution_count": 4,
   "metadata": {},
   "outputs": [],
   "source": [
    "MODEL_NAME = 'graph'\n",
    "#MODEL_FILE = MODEL_NAME + '.tar.gz'\n",
    "#DOWNLOAD_BASE = 'http://download.tensorflow.org/models/object_detection/'\n",
    "PATH_TO_CKPT = MODEL_NAME + '/frozen_inference_graph.pb'\n",
    "PATH_TO_LABELS = os.path.join('data', 'object-detection.pbtxt')\n",
    "NUM_CLASSES = 1\n",
    "\n",
    "\n",
    "\n",
    "#opener = urllib.request.URLopener()\n",
    "#opener.retrieve(DOWNLOAD_BASE + MODEL_FILE, MODEL_FILE)\n",
    "#tar_file = tarfile.open(MODEL_FILE)\n",
    "#for file in tar_file.getmembers():\n",
    "#  file_name = os.path.basename(file.name)\n",
    "#  if 'frozen_inference_graph.pb' in file_name:\n",
    "#    tar_file.extract(file, os.getcwd())\n",
    "detection_graph = tf.Graph()\n",
    "with detection_graph.as_default():\n",
    "  od_graph_def = tf.GraphDef()\n",
    "  with tf.gfile.GFile(PATH_TO_CKPT, 'rb') as fid:\n",
    "    serialized_graph = fid.read()\n",
    "    od_graph_def.ParseFromString(serialized_graph)\n",
    "    tf.import_graph_def(od_graph_def, name='')"
   ]
  },
  {
   "cell_type": "code",
   "execution_count": 5,
   "metadata": {},
   "outputs": [],
   "source": [
    "label_map = label_map_util.load_labelmap(PATH_TO_LABELS)\n",
    "categories = label_map_util.convert_label_map_to_categories(label_map, max_num_classes=NUM_CLASSES, use_display_name=True)\n",
    "category_index = label_map_util.create_category_index(categories)\n",
    "\n",
    "def load_image_into_numpy_array(image):\n",
    "    m = image.size\n",
    "    m = np.resize(m,(1000,1000,3))\n",
    "    return m\n",
    "  #(im_width, im_height) = image.size\n",
    "  #return np.array(image.getdata()).reshape((im_height, im_width, 3)).astype(np.uint8)\n",
    "\n",
    "\n",
    "\n",
    "\n"
   ]
  },
  {
   "cell_type": "code",
   "execution_count": 6,
   "metadata": {},
   "outputs": [],
   "source": [
    "def load_image_into_numpy_array(image):\n",
    "    #m = image.size\n",
    "    #m = np.resize(m,(2000,2000,3))\n",
    "    #return m\n",
    "   (im_width, im_height) = image.size\n",
    "   print(im_width,im_height)\n",
    "   #return np.array(image.getdata()).reshape((im_height, im_width, 3)).astype(np.uint8)\n",
    "   return cv2.resize((im_height,im_width),3)\n",
    "\n"
   ]
  },
  {
   "cell_type": "code",
   "execution_count": 7,
   "metadata": {},
   "outputs": [],
   "source": [
    "PATH_TO_TEST_IMAGES_DIR = 'images/Test/'\n",
    "\n",
    "TEST_IMAGE_PATHS = [ os.path.join(PATH_TO_TEST_IMAGES_DIR, 'image{}.jpg'.format(i)) for i in range(1, 9) ]\n",
    "\n"
   ]
  },
  {
   "cell_type": "code",
   "execution_count": 8,
   "metadata": {},
   "outputs": [],
   "source": [
    "IMAGE_SIZE = (12,8)\n",
    "import cv2"
   ]
  },
  {
   "cell_type": "code",
   "execution_count": 10,
   "metadata": {},
   "outputs": [
    {
     "name": "stdout",
     "output_type": "stream",
     "text": [
      "Tensor(\"detection_boxes:0\", dtype=float32)\n",
      "Tensor(\"detection_boxes:0\", dtype=float32)\n",
      "Tensor(\"detection_boxes:0\", dtype=float32)\n",
      "Tensor(\"detection_boxes:0\", dtype=float32)\n",
      "Tensor(\"detection_boxes:0\", dtype=float32)\n",
      "Tensor(\"detection_boxes:0\", dtype=float32)\n",
      "Tensor(\"detection_boxes:0\", dtype=float32)\n",
      "Tensor(\"detection_boxes:0\", dtype=float32)\n"
     ]
    }
   ],
   "source": [
    "ls = []\n",
    "with tf.compat.v1.Session(graph = detection_graph) as sess:\n",
    "        for image_path in TEST_IMAGE_PATHS:\n",
    "            #image = Image.open(image_path)\n",
    "            image_np = cv2.imread(image_path)\n",
    "            #image = np.asarray(image)\n",
    "            #imge = Image.fromarray(image, 'RGB')\n",
    "            #imge.show()\n",
    "            #print(image)\n",
    "            #plt.imshow(image)\n",
    "            #image_np = load_image_into_numpy_array(image)\n",
    "            #cv2.imshow(image_np)\n",
    "            plt.imshow(image_np)\n",
    "            image_np_expand = np.expand_dims(image_np,axis = 0)\n",
    "            image_tensor = detection_graph.get_tensor_by_name(\"image_tensor:0\")\n",
    "            boxes = detection_graph.get_tensor_by_name(\"detection_boxes:0\")\n",
    "            scores = detection_graph.get_tensor_by_name(\"detection_scores:0\")\n",
    "            classes = detection_graph.get_tensor_by_name(\"detection_classes:0\")\n",
    "            num_detections = detection_graph.get_tensor_by_name(\"num_detections:0\")\n",
    "            print(boxes)\n",
    "            (boxes,scores,classes,num_detections) = sess.run([boxes,scores,classes,num_detections],\n",
    "                                                            feed_dict = {image_tensor:image_np_expand})\n",
    "            vis_util.visualize_boxes_and_labels_on_image_array(\n",
    "                image_np,\n",
    "                np.squeeze(boxes),\n",
    "                np.squeeze(classes).astype(np.int32),\n",
    "                np.squeeze(scores),\n",
    "                category_index,\n",
    "                use_normalized_coordinates = True,\n",
    "                line_thickness=8)\n",
    "            img = Image.fromarray(image_np, 'RGB')\n",
    "            ls.append(img)\n",
    "            img.show()\n",
    "            plt.figure(figsize=IMAGE_SIZE)\n",
    "            plt.imshow(image_np)"
   ]
  },
  {
   "cell_type": "code",
   "execution_count": 30,
   "metadata": {},
   "outputs": [
    {
     "data": {
      "text/plain": [
       "['images/Test/image1.jpg',\n",
       " 'images/Test/image2.jpg',\n",
       " 'images/Test/image3.jpg',\n",
       " 'images/Test/image4.jpg',\n",
       " 'images/Test/image5.jpg',\n",
       " 'images/Test/image6.jpg']"
      ]
     },
     "execution_count": 30,
     "metadata": {},
     "output_type": "execute_result"
    }
   ],
   "source": [
    "#Image.fromarray(\"images/Test/image6.jpeg\", 'RGB')\n",
    "TEST_IMAGE_PATHS"
   ]
  },
  {
   "cell_type": "code",
   "execution_count": 6,
   "metadata": {},
   "outputs": [
    {
     "name": "stdout",
     "output_type": "stream",
     "text": [
      "CONTRIBUTING.md                     inputs_test.py\r\n",
      "README.md                           \u001b[34mlegacy\u001b[m\u001b[m\r\n",
      "Untitled.ipynb                      \u001b[34mltraining\u001b[m\u001b[m\r\n",
      "__init__.py                         \u001b[34mmatchers\u001b[m\u001b[m\r\n",
      "\u001b[34m__pycache__\u001b[m\u001b[m                         \u001b[34mmeta_architectures\u001b[m\u001b[m\r\n",
      "\u001b[34manchor_generators\u001b[m\u001b[m                   \u001b[34mmetrics\u001b[m\u001b[m\r\n",
      "\u001b[34mbox_coders\u001b[m\u001b[m                          model_hparams.py\r\n",
      "\u001b[34mbuilders\u001b[m\u001b[m                            model_lib.py\r\n",
      "\u001b[34mcore\u001b[m\u001b[m                                model_lib_test.py\r\n",
      "\u001b[34mdata\u001b[m\u001b[m                                model_lib_v2.py\r\n",
      "\u001b[34mdata_decoders\u001b[m\u001b[m                       model_lib_v2_test.py\r\n",
      "\u001b[34mdataset_tools\u001b[m\u001b[m                       model_main.py\r\n",
      "\u001b[34mdockerfiles\u001b[m\u001b[m                         model_tpu_main.py\r\n",
      "eval_util.py                        \u001b[34mmodels\u001b[m\u001b[m\r\n",
      "eval_util_test.py                   object_detection_tutorial.ipynb\r\n",
      "export_inference_graph.py           \u001b[34mpredictors\u001b[m\u001b[m\r\n",
      "export_tflite_ssd_graph.py          \u001b[34mprotos\u001b[m\u001b[m\r\n",
      "export_tflite_ssd_graph_lib.py      \u001b[34msamples\u001b[m\u001b[m\r\n",
      "export_tflite_ssd_graph_lib_test.py \u001b[34mssd_mobilenet_v1_coco_11_06_2017\u001b[m\u001b[m\r\n",
      "exporter.py                         ssd_mobilenet_v1_pets.config\r\n",
      "exporter_test.py                    \u001b[34mtest_ckpt\u001b[m\u001b[m\r\n",
      "\u001b[34mg3doc\u001b[m\u001b[m                               \u001b[34mtest_data\u001b[m\u001b[m\r\n",
      "\u001b[34mgraph\u001b[m\u001b[m                               \u001b[34mtest_images\u001b[m\u001b[m\r\n",
      "\u001b[30m\u001b[43mimages\u001b[m\u001b[m                              \u001b[34mtpu_exporters\u001b[m\u001b[m\r\n",
      "\u001b[34minference\u001b[m\u001b[m                           \u001b[34mtraining\u001b[m\u001b[m\r\n",
      "inputs.py                           \u001b[34mutils\u001b[m\u001b[m\r\n"
     ]
    }
   ],
   "source": [
    "!ls"
   ]
  },
  {
   "cell_type": "code",
   "execution_count": 45,
   "metadata": {},
   "outputs": [],
   "source": [
    "img =cv2.imread(\"images/Test/image1.jpg\")\n",
    "imge = Image.fromarray(img, 'RGB')\n",
    "imge.show()"
   ]
  },
  {
   "cell_type": "code",
   "execution_count": 46,
   "metadata": {},
   "outputs": [
    {
     "data": {
      "text/plain": [
       "(1629, 1590, 3)"
      ]
     },
     "execution_count": 46,
     "metadata": {},
     "output_type": "execute_result"
    }
   ],
   "source": [
    "img.shape"
   ]
  },
  {
   "cell_type": "code",
   "execution_count": null,
   "metadata": {},
   "outputs": [],
   "source": []
  }
 ],
 "metadata": {
  "kernelspec": {
   "display_name": "Python 3",
   "language": "python",
   "name": "python3"
  },
  "language_info": {
   "codemirror_mode": {
    "name": "ipython",
    "version": 3
   },
   "file_extension": ".py",
   "mimetype": "text/x-python",
   "name": "python",
   "nbconvert_exporter": "python",
   "pygments_lexer": "ipython3",
   "version": "3.7.4"
  }
 },
 "nbformat": 4,
 "nbformat_minor": 2
}
